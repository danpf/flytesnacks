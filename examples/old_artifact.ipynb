{
 "cells": [
  {
   "cell_type": "code",
   "execution_count": 19,
   "id": "36d6b27b",
   "metadata": {},
   "outputs": [],
   "source": [
    "import typing\n",
    "from collections import OrderedDict\n",
    "\n",
    "import pytest\n",
    "from flyteidl.artifact import artifacts_pb2\n",
    "from flyteidl.core import identifier_pb2\n",
    "from typing_extensions import Annotated\n",
    "\n",
    "from flytekit.configuration import Config, Image, ImageConfig, SerializationSettings\n",
    "from flytekit.core.artifact import Artifact\n",
    "from flytekit.core.context_manager import FlyteContextManager\n",
    "from flytekit.core.launch_plan import LaunchPlan\n",
    "from flytekit.core.task import task\n",
    "from flytekit.core.workflow import workflow\n",
    "from flytekit.remote.remote import FlyteRemote\n",
    "from flytekit.tools.translator import get_serializable\n",
    "from flytekit.types.structured.structured_dataset import StructuredDataset"
   ]
  },
  {
   "cell_type": "code",
   "execution_count": 20,
   "id": "ea484c49",
   "metadata": {},
   "outputs": [],
   "source": [
    "r = FlyteRemote(\n",
    "    Config.auto(config_file=\"/Users/ytong/.flyte/local_admin.yaml\"),\n",
    "    default_project=\"flytesnacks\",\n",
    "    default_domain=\"development\",\n",
    ")"
   ]
  },
  {
   "cell_type": "markdown",
   "id": "d0ae19b4",
   "metadata": {},
   "source": [
    "#### Getting Data"
   ]
  },
  {
   "cell_type": "code",
   "execution_count": 21,
   "id": "ec7534c0",
   "metadata": {},
   "outputs": [
    {
     "data": {
      "text/plain": [
       "literal {\n",
       "  scalar {\n",
       "    structured_dataset {\n",
       "      uri: \"s3://my-s3-bucket/data/4w/atkr4zrcw957946nrwbj-n0-0/b326674811e52cb07b367ff1f15022a8\"\n",
       "      metadata {\n",
       "        structured_dataset_type {\n",
       "          format: \"parquet\"\n",
       "        }\n",
       "      }\n",
       "    }\n",
       "  }\n",
       "}"
      ]
     },
     "execution_count": 21,
     "metadata": {},
     "output_type": "execute_result"
    }
   ],
   "source": [
    "r.client.get_data(\"flyte://v1/flytesnacks/development/atkr4zrcw957946nrwbj/n0/0/o/o0\")"
   ]
  },
  {
   "cell_type": "code",
   "execution_count": 26,
   "id": "20c19fa9",
   "metadata": {
    "scrolled": true
   },
   "outputs": [],
   "source": [
    "r.get_artifact(\"flyte://av0.1/flytesnacks/development/anmf2pdq2qctrzfn6frn/n0/0/o:o0\")"
   ]
  },
  {
   "cell_type": "markdown",
   "id": "89bc5bf0",
   "metadata": {},
   "source": [
    "#### Launching "
   ]
  },
  {
   "cell_type": "code",
   "execution_count": 28,
   "id": "c406fcc3",
   "metadata": {},
   "outputs": [],
   "source": [
    "df_artifact = r.get_artifact(\"flyte://av0.1/flytesnacks/development/anmf2pdq2qctrzfn6frn/n0/0/o:o0\")"
   ]
  },
  {
   "cell_type": "code",
   "execution_count": 30,
   "id": "59aca7d2",
   "metadata": {},
   "outputs": [],
   "source": [
    "wf = r.fetch_workflow(\n",
    "        \"flytesnacks\", \"development\", \"artifact_examples.consume_a_dataframe\", \"fia6BiIkuoQIaK4mf1lbyg==\"\n",
    "    )"
   ]
  },
  {
   "cell_type": "code",
   "execution_count": 31,
   "id": "015eaef3",
   "metadata": {},
   "outputs": [
    {
     "data": {
      "text/plain": [
       "<FlyteLiteral id { project: \"flytesnacks\" domain: \"development\" name: \"fdfd17873a6774b6493e\" } spec { launch_plan { resource_type: LAUNCH_PLAN project: \"flytesnacks\" domain: \"development\" name: \"artifact_examples.consume_a_dataframe\" version: \"fia6BiIkuoQIaK4mf1lbyg==\" } metadata { system_metadata { } } notifications { } labels { } annotations { } auth_role { } } closure { started_at { } duration { } created_at { seconds: 1690928147 nanos: 603908000 } updated_at { seconds: 1690928147 nanos: 603908000 } }>"
      ]
     },
     "execution_count": 31,
     "metadata": {},
     "output_type": "execute_result"
    }
   ],
   "source": [
    "r.execute(wf, inputs={\"df\": df_artifact})"
   ]
  },
  {
   "cell_type": "code",
   "execution_count": 32,
   "id": "37a813ad",
   "metadata": {
    "scrolled": false
   },
   "outputs": [
    {
     "data": {
      "text/plain": [
       "Artifact: project=flytesnacks, domain=development, suffix=a9q5hvkwvchbzrr8jgwt/n0/0/o/o0\n",
       "  name=dataframe_artifact\n",
       "  aliases=['latest']\n",
       "  literal_type=<FlyteLiteral structured_dataset_type { }>, literal=<FlyteLiteral scalar { structured_dataset { uri: \"s3://my-s3-bucket/data/c4/a9q5hvkwvchbzrr8jgwt-n0-0/d3bad2b86b4113d49da968d292b3c0a3\" metadata { structured_dataset_type { format: \"parquet\" } } } }>)"
      ]
     },
     "execution_count": 32,
     "metadata": {},
     "output_type": "execute_result"
    }
   ],
   "source": [
    "r.get_artifact(\"flyte://av0.1/flytesnacks/development/dataframe_artifact:latest\")"
   ]
  },
  {
   "cell_type": "code",
   "execution_count": 33,
   "id": "f86b1b54",
   "metadata": {},
   "outputs": [
    {
     "data": {
      "text/plain": [
       "<FlyteLiteral id { project: \"flytesnacks\" domain: \"development\" name: \"fc2de1c18479e4345869\" } spec { launch_plan { resource_type: LAUNCH_PLAN project: \"flytesnacks\" domain: \"development\" name: \"artifact_examples.consume_a_dataframe\" version: \"fia6BiIkuoQIaK4mf1lbyg==\" } metadata { system_metadata { } } notifications { } labels { } annotations { } auth_role { } } closure { started_at { } duration { } created_at { seconds: 1690928394 nanos: 382737000 } updated_at { seconds: 1690928394 nanos: 382737000 } }>"
      ]
     },
     "execution_count": 33,
     "metadata": {},
     "output_type": "execute_result"
    }
   ],
   "source": [
    "r.execute(wf, inputs={})"
   ]
  },
  {
   "cell_type": "code",
   "execution_count": null,
   "id": "a45d842a",
   "metadata": {},
   "outputs": [],
   "source": []
  },
  {
   "cell_type": "code",
   "execution_count": null,
   "id": "29d16be3",
   "metadata": {},
   "outputs": [],
   "source": []
  },
  {
   "cell_type": "code",
   "execution_count": null,
   "id": "12efadcc",
   "metadata": {},
   "outputs": [],
   "source": []
  }
 ],
 "metadata": {
  "kernelspec": {
   "display_name": "Python 3 (ipykernel)",
   "language": "python",
   "name": "python3"
  },
  "language_info": {
   "codemirror_mode": {
    "name": "ipython",
    "version": 3
   },
   "file_extension": ".py",
   "mimetype": "text/x-python",
   "name": "python",
   "nbconvert_exporter": "python",
   "pygments_lexer": "ipython3",
   "version": "3.10.12"
  }
 },
 "nbformat": 4,
 "nbformat_minor": 5
}
