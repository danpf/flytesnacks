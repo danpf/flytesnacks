{
 "cells": [
  {
   "cell_type": "code",
   "execution_count": 3,
   "id": "5774d172",
   "metadata": {},
   "outputs": [],
   "source": [
    "import typing\n",
    "from collections import OrderedDict\n",
    "from typing_extensions import Annotated\n",
    "\n",
    "from flyteidl.artifact import artifacts_pb2\n",
    "from flyteidl.core import identifier_pb2\n",
    "from flytekit import task, workflow, LaunchPlan\n",
    "\n",
    "from flytekit.configuration import Config, Image, ImageConfig\n",
    "from flytekit.core.artifact import Artifact\n",
    "from flytekit.core.context_manager import FlyteContextManager\n",
    "from flytekit.remote.remote import FlyteRemote\n",
    "from flytekit.types.structured.structured_dataset import StructuredDataset"
   ]
  },
  {
   "cell_type": "code",
   "execution_count": 4,
   "id": "43ae3177",
   "metadata": {},
   "outputs": [],
   "source": [
    "r = FlyteRemote(\n",
    "    Config.auto(config_file=\"/Users/ytong/.flyte/local_admin.yaml\"),\n",
    "    default_project=\"flytesnacks\",\n",
    "    default_domain=\"development\",\n",
    ")"
   ]
  },
  {
   "cell_type": "markdown",
   "id": "6218dd1f",
   "metadata": {},
   "source": [
    "### Existing Interaction Model"
   ]
  },
  {
   "cell_type": "markdown",
   "id": "3fe6885e",
   "metadata": {},
   "source": [
    "Ran the `run_gather_data` ([link](http://localhost:8088/console/projects/flytesnacks/domains/development/executions/awj9w6wlf8xdjkvk459k?duration=all)). Fetch and traverse nodes"
   ]
  },
  {
   "cell_type": "code",
   "execution_count": 5,
   "id": "dc4658b5",
   "metadata": {},
   "outputs": [],
   "source": [
    "e1 = r.fetch_execution(name=\"awj9w6wlf8xdjkvk459k\")"
   ]
  },
  {
   "cell_type": "code",
   "execution_count": 6,
   "id": "2a6f3291",
   "metadata": {},
   "outputs": [
    {
     "data": {
      "text/plain": [
       "<FlyteLiteral id { project: \"flytesnacks\" domain: \"development\" name: \"awj9w6wlf8xdjkvk459k\" } spec { launch_plan { resource_type: LAUNCH_PLAN project: \"flytesnacks\" domain: \"development\" name: \"ml_demo.run_gather_data\" version: \"N02fA5ZeLNzkh6Oa1Zm6cw==\" } metadata { system_metadata { } } labels { } annotations { } auth_role { } } closure { outputs { uri: \"s3://my-s3-bucket/metadata/propeller/flytesnacks-development-awj9w6wlf8xdjkvk459k/end-node/data/0/outputs.pb\" } phase: SUCCEEDED started_at { seconds: 1691599813 nanos: 632576000 } duration { seconds: 61 nanos: 261134000 } created_at { seconds: 1691599813 nanos: 579667000 } updated_at { seconds: 1691599874 nanos: 893710000 } }>"
      ]
     },
     "execution_count": 6,
     "metadata": {},
     "output_type": "execute_result"
    }
   ],
   "source": [
    "r.sync_execution(e1, sync_nodes=True)"
   ]
  },
  {
   "cell_type": "code",
   "execution_count": 7,
   "id": "606f3ddd",
   "metadata": {},
   "outputs": [
    {
     "data": {
      "text/plain": [
       "Partially converted to native values, call get(key, <type_hint>) to convert rest...\n",
       "{\n",
       "  o0: \n",
       "      <FlyteLiteral scalar { structured_dataset { uri: \"s3://my-s3-bucket/data/cn/awj9w6wlf8xdjkvk459k-n0-0/b5f05e5296547eb17ed79bd12a15a0bf\" metadata { structured_dataset_type { format: \"parquet\" } } } }>\n",
       "}"
      ]
     },
     "execution_count": 7,
     "metadata": {},
     "output_type": "execute_result"
    }
   ],
   "source": [
    "e1.node_executions[\"n0\"].outputs"
   ]
  },
  {
   "cell_type": "markdown",
   "id": "808f26e0",
   "metadata": {},
   "source": [
    "Experimental Flyte URL based Get"
   ]
  },
  {
   "cell_type": "code",
   "execution_count": 8,
   "id": "4670fe9a",
   "metadata": {},
   "outputs": [
    {
     "data": {
      "text/plain": [
       "literal {\n",
       "  scalar {\n",
       "    structured_dataset {\n",
       "      uri: \"s3://my-s3-bucket/data/cn/awj9w6wlf8xdjkvk459k-n0-0/b5f05e5296547eb17ed79bd12a15a0bf\"\n",
       "      metadata {\n",
       "        structured_dataset_type {\n",
       "          format: \"parquet\"\n",
       "        }\n",
       "      }\n",
       "    }\n",
       "  }\n",
       "}"
      ]
     },
     "execution_count": 8,
     "metadata": {},
     "output_type": "execute_result"
    }
   ],
   "source": [
    "r.client.get_data(\"flyte://v1/flytesnacks/development/awj9w6wlf8xdjkvk459k/n0/0/o/o0\")"
   ]
  },
  {
   "cell_type": "code",
   "execution_count": null,
   "id": "5842ed47",
   "metadata": {},
   "outputs": [],
   "source": []
  }
 ],
 "metadata": {
  "kernelspec": {
   "display_name": "Python 3 (ipykernel)",
   "language": "python",
   "name": "python3"
  },
  "language_info": {
   "codemirror_mode": {
    "name": "ipython",
    "version": 3
   },
   "file_extension": ".py",
   "mimetype": "text/x-python",
   "name": "python",
   "nbconvert_exporter": "python",
   "pygments_lexer": "ipython3",
   "version": "3.10.12"
  }
 },
 "nbformat": 4,
 "nbformat_minor": 5
}
